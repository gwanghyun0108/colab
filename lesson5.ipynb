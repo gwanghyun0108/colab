{
  "nbformat": 4,
  "nbformat_minor": 0,
  "metadata": {
    "colab": {
      "provenance": [],
      "authorship_tag": "ABX9TyOyIM6MD59e3cq0DRrD79oV",
      "include_colab_link": true
    },
    "kernelspec": {
      "name": "python3",
      "display_name": "Python 3"
    },
    "language_info": {
      "name": "python"
    }
  },
  "cells": [
    {
      "cell_type": "markdown",
      "metadata": {
        "id": "view-in-github",
        "colab_type": "text"
      },
      "source": [
        "<a href=\"https://colab.research.google.com/github/gwanghyun0108/colab/blob/main/lesson5.ipynb\" target=\"_parent\"><img src=\"https://colab.research.google.com/assets/colab-badge.svg\" alt=\"Open In Colab\"/></a>"
      ]
    },
    {
      "cell_type": "markdown",
      "source": [
        "조건문"
      ],
      "metadata": {
        "id": "N8ZL09ky2sPU"
      }
    },
    {
      "cell_type": "code",
      "execution_count": 1,
      "metadata": {
        "colab": {
          "base_uri": "https://localhost:8080/"
        },
        "id": "IiQf4jYnzigf",
        "outputId": "86a2a7d2-3478-4e0e-eab0-70039253a5d2"
      },
      "outputs": [
        {
          "output_type": "stream",
          "name": "stdout",
          "text": [
            "100보다 작습니다.\n"
          ]
        }
      ],
      "source": [
        "num = 99\n",
        "if num < 100 :\n",
        "  print(\"100보다 작습니다.\")"
      ]
    },
    {
      "cell_type": "code",
      "source": [
        "num=200\n",
        "if num < 100 :\n",
        "  print(\"100보다 작습니다.\")\n",
        "else :\n",
        "  print(\"100보다 큽니다.\")"
      ],
      "metadata": {
        "colab": {
          "base_uri": "https://localhost:8080/"
        },
        "id": "mKFo6oH94tIA",
        "outputId": "abf2e80a-fa50-40c6-ab25-c7261c425db5"
      },
      "execution_count": 2,
      "outputs": [
        {
          "output_type": "stream",
          "name": "stdout",
          "text": [
            "100보다 큽니다.\n"
          ]
        }
      ]
    },
    {
      "cell_type": "code",
      "source": [
        "num=int(input(\"숫자를 입력하시오 : \"))\n",
        "\n",
        "if num%2 == 0 :\n",
        "  print(\"짝수입니다.\")\n",
        "else :\n",
        "  print(\"홀수입니다.\")"
      ],
      "metadata": {
        "colab": {
          "base_uri": "https://localhost:8080/"
        },
        "id": "dMiW5uNJ5Gwb",
        "outputId": "f548f979-aea4-4ee6-da80-de2bd38c562d"
      },
      "execution_count": 4,
      "outputs": [
        {
          "output_type": "stream",
          "name": "stdout",
          "text": [
            "숫자를 입력하시오 : 31\n",
            "홀수입니다.\n"
          ]
        }
      ]
    },
    {
      "cell_type": "code",
      "source": [
        "num=int(input(\"숫자를 입력하시오 : \"))\n",
        "\n",
        "if num > 100 :\n",
        "  if num < 1000 :\n",
        "    print(\"100보다 크고 1000보다 작습니다.\")\n",
        "  else :\n",
        "    print(\"1000보다 큽니다.\")\n",
        "else :\n",
        "  print(\"100보다 작습니다.\")"
      ],
      "metadata": {
        "colab": {
          "base_uri": "https://localhost:8080/"
        },
        "id": "LGoPIK9w7Ubr",
        "outputId": "e2d67c7e-ec1b-4da5-9bb1-95e8785ee39c"
      },
      "execution_count": 13,
      "outputs": [
        {
          "output_type": "stream",
          "name": "stdout",
          "text": [
            "숫자를 입력하시오 : 1500\n",
            "1000보다 큽니다.\n"
          ]
        }
      ]
    },
    {
      "cell_type": "markdown",
      "source": [
        "형성평가 2"
      ],
      "metadata": {
        "id": "gqN9Or5s__Gx"
      }
    },
    {
      "cell_type": "code",
      "source": [
        "num=int(input(\"학점을 입력하시오. : \"))\n",
        "\n",
        "if num >=90 :\n",
        "  print(\"A\", end='')\n",
        "else :\n",
        "  if num >=80 :\n",
        "    print(\"B\", end='')\n",
        "  else :\n",
        "    if num>=70 :\n",
        "      print(\"C\", end='')\n",
        "    else :\n",
        "      if num>=60 :\n",
        "        print(\"D\", end='')\n",
        "      else :\n",
        "        print(\"F\", end='')\n",
        "print(\"학점입니다.\")"
      ],
      "metadata": {
        "colab": {
          "base_uri": "https://localhost:8080/"
        },
        "id": "AkO5QloqABui",
        "outputId": "a4de95f1-2845-4492-fa61-18ae5c1b15b3"
      },
      "execution_count": 15,
      "outputs": [
        {
          "output_type": "stream",
          "name": "stdout",
          "text": [
            "학점을 입력하시오. : 89\n",
            "B학점입니다.\n"
          ]
        }
      ]
    },
    {
      "cell_type": "markdown",
      "source": [
        "가위바위보"
      ],
      "metadata": {
        "id": "8IWJo_cTXP__"
      }
    },
    {
      "cell_type": "code",
      "source": [
        "a = input(\"가위 바위 보 중 하나를 입력하세요 : \")\n",
        "b = random.choice([\"가위\", \"바위\", \"보\"])\n",
        "\n",
        "print(a, b)\n",
        "if a == b :\n",
        "  print(\"비겼다.\")\n",
        "elif ((a == '바위') and (b == '가위')) or ((a == '가위') and (b == '보')) or ((a == '보') and (b == '바위')):\n",
        "  print(\"이겼다.\")\n",
        "else :\n",
        "  print(\"졌다.\")"
      ],
      "metadata": {
        "colab": {
          "base_uri": "https://localhost:8080/"
        },
        "id": "AnJBxxlwXRfU",
        "outputId": "45e93721-9102-4e3b-a39f-5b558fd684b9"
      },
      "execution_count": 30,
      "outputs": [
        {
          "output_type": "stream",
          "name": "stdout",
          "text": [
            "가위 바위 보 중 하나를 입력하세요 : 보\n",
            "보 바위\n",
            "이겼다.\n"
          ]
        }
      ]
    },
    {
      "cell_type": "code",
      "source": [
        "#!pip3 install ColabTurtle\n",
        "import ColabTurtle.Turtle as turtle\n",
        "n = 0\n",
        "m = 0\n",
        "if n > 0:\n",
        "  n = 0\n",
        "  m = 0\n",
        "\n",
        "turtle.initializeTurtle()\n",
        "print(turtle.DEFAULT_WINDOW_SIZE)\n",
        "turtle.left(90)\n",
        "while True :\n",
        "  turtle.left(random.randint(0,360))\n",
        "  turtle.forward(random.randint(50, 100))\n",
        "  m = m + 1\n",
        "  print(turtle.getx(), turtle.gety())\n",
        "  if ((turtle.getx() > 700 or turtle.gety() > 400)) or ((turtle.getx() < 100 or turtle.gety() < 100)):\n",
        "    n = n + 1\n",
        "    print (\"가출 (현재 가출횟수 :\", n,\"회)\")\n",
        "    turtle.penup()\n",
        "    turtle.setx(400)\n",
        "    turtle.sety(250)\n",
        "    turtle.pendown()\n",
        "    if n >= 10 :\n",
        "      print(\"이동을 한 회수는\", m, \"회 입니다.\")\n",
        "      break\n"
      ],
      "metadata": {
        "colab": {
          "base_uri": "https://localhost:8080/",
          "height": 1000
        },
        "id": "I8ZDOVmq5Xc8",
        "outputId": "d59f915a-b092-4462-c9d1-015f47d60713"
      },
      "execution_count": null,
      "outputs": [
        {
          "output_type": "display_data",
          "data": {
            "text/plain": [
              "<IPython.core.display.HTML object>"
            ],
            "text/html": [
              "\n",
              "      <svg width=\"800\" height=\"500\">\n",
              "        <rect width=\"100%\" height=\"100%\" fill=\"black\"/>\n",
              "        <line x1=\"400\" y1=\"250\" x2=\"430.851\" y2=\"183.84\" stroke-linecap=\"round\" style=\"stroke:white;stroke-width:4\"/><line x1=\"430.851\" y1=\"183.84\" x2=\"392.645\" y2=\"223.404\" stroke-linecap=\"round\" style=\"stroke:white;stroke-width:4\"/><line x1=\"392.645\" y1=\"223.404\" x2=\"403.501\" y2=\"300.645\" stroke-linecap=\"round\" style=\"stroke:white;stroke-width:4\"/><line x1=\"403.501\" y1=\"300.645\" x2=\"465.518\" y2=\"330.893\" stroke-linecap=\"round\" style=\"stroke:white;stroke-width:4\"/><line x1=\"465.518\" y1=\"330.893\" x2=\"514.622\" y2=\"383.55\" stroke-linecap=\"round\" style=\"stroke:white;stroke-width:4\"/><line x1=\"514.622\" y1=\"383.55\" x2=\"501.794\" y2=\"464.54\" stroke-linecap=\"round\" style=\"stroke:white;stroke-width:4\"/><line x1=\"400\" y1=\"250\" x2=\"350.131\" y2=\"313.829\" stroke-linecap=\"round\" style=\"stroke:white;stroke-width:4\"/><line x1=\"350.131\" y1=\"313.829\" x2=\"415.88\" y2=\"319.581\" stroke-linecap=\"round\" style=\"stroke:white;stroke-width:4\"/><line x1=\"415.88\" y1=\"319.581\" x2=\"395.089\" y2=\"221.766\" stroke-linecap=\"round\" style=\"stroke:white;stroke-width:4\"/><line x1=\"395.089\" y1=\"221.766\" x2=\"450.635\" y2=\"259.232\" stroke-linecap=\"round\" style=\"stroke:white;stroke-width:4\"/><line x1=\"450.635\" y1=\"259.232\" x2=\"390.453\" y2=\"179.368\" stroke-linecap=\"round\" style=\"stroke:white;stroke-width:4\"/><line x1=\"390.453\" y1=\"179.368\" x2=\"300.946\" y2=\"169.96\" stroke-linecap=\"round\" style=\"stroke:white;stroke-width:4\"/><line x1=\"300.946\" y1=\"169.96\" x2=\"311.106\" y2=\"242.25\" stroke-linecap=\"round\" style=\"stroke:white;stroke-width:4\"/><line x1=\"311.106\" y1=\"242.25\" x2=\"319.037\" y2=\"151.596\" stroke-linecap=\"round\" style=\"stroke:white;stroke-width:4\"/><line x1=\"319.037\" y1=\"151.596\" x2=\"266.907\" y2=\"126.17\" stroke-linecap=\"round\" style=\"stroke:white;stroke-width:4\"/><line x1=\"266.907\" y1=\"126.17\" x2=\"176.697\" y2=\"159.004\" stroke-linecap=\"round\" style=\"stroke:white;stroke-width:4\"/><line x1=\"176.697\" y1=\"159.004\" x2=\"93.627\" y2=\"136.746\" stroke-linecap=\"round\" style=\"stroke:white;stroke-width:4\"/><line x1=\"400\" y1=\"250\" x2=\"464.348\" y2=\"280.006\" stroke-linecap=\"round\" style=\"stroke:white;stroke-width:4\"/><line x1=\"464.348\" y1=\"280.006\" x2=\"537.437\" y2=\"268.43\" stroke-linecap=\"round\" style=\"stroke:white;stroke-width:4\"/><line x1=\"537.437\" y1=\"268.43\" x2=\"449.457\" y2=\"295.328\" stroke-linecap=\"round\" style=\"stroke:white;stroke-width:4\"/><line x1=\"449.457\" y1=\"295.328\" x2=\"467.925\" y2=\"359.733\" stroke-linecap=\"round\" style=\"stroke:white;stroke-width:4\"/><line x1=\"467.925\" y1=\"359.733\" x2=\"376.334\" y2=\"380.878\" stroke-linecap=\"round\" style=\"stroke:white;stroke-width:4\"/><line x1=\"376.334\" y1=\"380.878\" x2=\"320.879\" y2=\"373.084\" stroke-linecap=\"round\" style=\"stroke:white;stroke-width:4\"/><line x1=\"320.879\" y1=\"373.084\" x2=\"225.661\" y2=\"354.576\" stroke-linecap=\"round\" style=\"stroke:white;stroke-width:4\"/><line x1=\"225.661\" y1=\"354.576\" x2=\"272.121\" y2=\"288.225\" stroke-linecap=\"round\" style=\"stroke:white;stroke-width:4\"/><line x1=\"272.121\" y1=\"288.225\" x2=\"352.01\" y2=\"262.268\" stroke-linecap=\"round\" style=\"stroke:white;stroke-width:4\"/><line x1=\"352.01\" y1=\"262.268\" x2=\"333.542\" y2=\"197.863\" stroke-linecap=\"round\" style=\"stroke:white;stroke-width:4\"/><line x1=\"333.542\" y1=\"197.863\" x2=\"411.342\" y2=\"211.581\" stroke-linecap=\"round\" style=\"stroke:white;stroke-width:4\"/><line x1=\"411.342\" y1=\"211.581\" x2=\"324.354\" y2=\"181.629\" stroke-linecap=\"round\" style=\"stroke:white;stroke-width:4\"/><line x1=\"324.354\" y1=\"181.629\" x2=\"239.988\" y2=\"191.988\" stroke-linecap=\"round\" style=\"stroke:white;stroke-width:4\"/>\n",
              "        <g visibility=visible transform=\"rotate(125,239.988,191.988) translate(221.988, 173.988)\">\n",
              "<path style=\" stroke:none;fill-rule:evenodd;fill:white;fill-opacity:1;\" d=\"M 18.214844 0.632812 C 16.109375 1.800781 15.011719 4.074219 15.074219 7.132812 L 15.085938 7.652344 L 14.785156 7.496094 C 13.476562 6.824219 11.957031 6.671875 10.40625 7.066406 C 8.46875 7.550781 6.515625 9.15625 4.394531 11.992188 C 3.0625 13.777344 2.679688 14.636719 3.042969 15.027344 L 3.15625 15.152344 L 3.519531 15.152344 C 4.238281 15.152344 4.828125 14.886719 8.1875 13.039062 C 9.386719 12.378906 10.371094 11.839844 10.378906 11.839844 C 10.386719 11.839844 10.355469 11.929688 10.304688 12.035156 C 9.832031 13.09375 9.257812 14.820312 8.96875 16.078125 C 7.914062 20.652344 8.617188 24.53125 11.070312 27.660156 C 11.351562 28.015625 11.363281 27.914062 10.972656 28.382812 C 8.925781 30.84375 7.945312 33.28125 8.238281 35.1875 C 8.289062 35.527344 8.28125 35.523438 8.917969 35.523438 C 10.941406 35.523438 13.074219 34.207031 15.136719 31.6875 C 15.359375 31.417969 15.328125 31.425781 15.5625 31.574219 C 16.292969 32.042969 18.023438 32.964844 18.175781 32.964844 C 18.335938 32.964844 19.941406 32.210938 20.828125 31.71875 C 20.996094 31.625 21.136719 31.554688 21.136719 31.558594 C 21.203125 31.664062 21.898438 32.414062 22.222656 32.730469 C 23.835938 34.300781 25.5625 35.132812 27.582031 35.300781 C 27.90625 35.328125 27.9375 35.308594 28.007812 34.984375 C 28.382812 33.242188 27.625 30.925781 25.863281 28.425781 L 25.542969 27.96875 L 25.699219 27.785156 C 28.945312 23.960938 29.132812 18.699219 26.257812 11.96875 L 26.207031 11.84375 L 27.945312 12.703125 C 31.53125 14.476562 32.316406 14.800781 33.03125 14.800781 C 33.976562 14.800781 33.78125 13.9375 32.472656 12.292969 C 28.519531 7.355469 25.394531 5.925781 21.921875 7.472656 L 21.558594 7.636719 L 21.578125 7.542969 C 21.699219 6.992188 21.761719 5.742188 21.699219 5.164062 C 21.496094 3.296875 20.664062 1.964844 19.003906 0.855469 C 18.480469 0.503906 18.457031 0.5 18.214844 0.632812\"/>\n",
              "</g>\n",
              "      </svg>\n",
              "    "
            ]
          },
          "metadata": {}
        },
        {
          "output_type": "stream",
          "name": "stdout",
          "text": [
            "(800, 500)\n",
            "430.851 183.84\n",
            "392.645 223.404\n",
            "403.501 300.645\n",
            "465.518 330.893\n",
            "514.622 383.55\n",
            "501.794 464.54\n",
            "가출 (현재 가출횟수 : 1 회)\n",
            "350.131 313.829\n",
            "415.88 319.581\n",
            "395.089 221.766\n",
            "450.635 259.232\n",
            "390.453 179.368\n",
            "300.946 169.96\n",
            "311.106 242.25\n",
            "319.037 151.596\n",
            "266.907 126.17\n",
            "176.697 159.004\n",
            "93.627 136.746\n",
            "가출 (현재 가출횟수 : 2 회)\n",
            "464.348 280.006\n",
            "537.437 268.43\n",
            "449.457 295.328\n",
            "467.925 359.733\n",
            "376.334 380.878\n",
            "320.879 373.084\n",
            "225.661 354.576\n",
            "272.121 288.225\n",
            "352.01 262.268\n",
            "333.542 197.863\n",
            "411.342 211.581\n",
            "324.354 181.629\n",
            "239.988 191.988\n"
          ]
        }
      ]
    }
  ]
}