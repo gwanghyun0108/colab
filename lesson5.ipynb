{
  "nbformat": 4,
  "nbformat_minor": 0,
  "metadata": {
    "colab": {
      "provenance": [],
      "authorship_tag": "ABX9TyPDg+GKcNBadK6Opp2+NmE2",
      "include_colab_link": true
    },
    "kernelspec": {
      "name": "python3",
      "display_name": "Python 3"
    },
    "language_info": {
      "name": "python"
    }
  },
  "cells": [
    {
      "cell_type": "markdown",
      "metadata": {
        "id": "view-in-github",
        "colab_type": "text"
      },
      "source": [
        "<a href=\"https://colab.research.google.com/github/gwanghyun0108/colab/blob/main/lesson5.ipynb\" target=\"_parent\"><img src=\"https://colab.research.google.com/assets/colab-badge.svg\" alt=\"Open In Colab\"/></a>"
      ]
    },
    {
      "cell_type": "markdown",
      "source": [
        "조건문"
      ],
      "metadata": {
        "id": "N8ZL09ky2sPU"
      }
    },
    {
      "cell_type": "code",
      "execution_count": 1,
      "metadata": {
        "colab": {
          "base_uri": "https://localhost:8080/"
        },
        "id": "IiQf4jYnzigf",
        "outputId": "86a2a7d2-3478-4e0e-eab0-70039253a5d2"
      },
      "outputs": [
        {
          "output_type": "stream",
          "name": "stdout",
          "text": [
            "100보다 작습니다.\n"
          ]
        }
      ],
      "source": [
        "num = 99\n",
        "if num < 100 :\n",
        "  print(\"100보다 작습니다.\")"
      ]
    },
    {
      "cell_type": "code",
      "source": [
        "num=200\n",
        "if num < 100 :\n",
        "  print(\"100보다 작습니다.\")\n",
        "else :\n",
        "  print(\"100보다 큽니다.\")"
      ],
      "metadata": {
        "colab": {
          "base_uri": "https://localhost:8080/"
        },
        "id": "mKFo6oH94tIA",
        "outputId": "abf2e80a-fa50-40c6-ab25-c7261c425db5"
      },
      "execution_count": 2,
      "outputs": [
        {
          "output_type": "stream",
          "name": "stdout",
          "text": [
            "100보다 큽니다.\n"
          ]
        }
      ]
    },
    {
      "cell_type": "code",
      "source": [
        "num=int(input(\"숫자를 입력하시오 : \"))\n",
        "\n",
        "if num%2 == 0 :\n",
        "  print(\"짝수입니다.\")\n",
        "else :\n",
        "  print(\"홀수입니다.\")"
      ],
      "metadata": {
        "colab": {
          "base_uri": "https://localhost:8080/"
        },
        "id": "dMiW5uNJ5Gwb",
        "outputId": "f548f979-aea4-4ee6-da80-de2bd38c562d"
      },
      "execution_count": 4,
      "outputs": [
        {
          "output_type": "stream",
          "name": "stdout",
          "text": [
            "숫자를 입력하시오 : 31\n",
            "홀수입니다.\n"
          ]
        }
      ]
    },
    {
      "cell_type": "code",
      "source": [
        "num=int(input(\"숫자를 입력하시오 : \"))\n",
        "\n",
        "if num > 100 :\n",
        "  if num < 1000 :\n",
        "    print(\"100보다 크고 1000보다 작습니다.\")\n",
        "  else :\n",
        "    print(\"1000보다 큽니다.\")\n",
        "else :\n",
        "  print(\"100보다 작습니다.\")"
      ],
      "metadata": {
        "colab": {
          "base_uri": "https://localhost:8080/"
        },
        "id": "LGoPIK9w7Ubr",
        "outputId": "e2d67c7e-ec1b-4da5-9bb1-95e8785ee39c"
      },
      "execution_count": 13,
      "outputs": [
        {
          "output_type": "stream",
          "name": "stdout",
          "text": [
            "숫자를 입력하시오 : 1500\n",
            "1000보다 큽니다.\n"
          ]
        }
      ]
    },
    {
      "cell_type": "markdown",
      "source": [
        "형성평가 2"
      ],
      "metadata": {
        "id": "gqN9Or5s__Gx"
      }
    },
    {
      "cell_type": "code",
      "source": [
        "num=int(input(\"학점을 입력하시오. : \"))\n",
        "\n",
        "if num >=90 :\n",
        "  print(\"A\", end='')\n",
        "else :\n",
        "  if num >=80 :\n",
        "    print(\"B\", end='')\n",
        "  else :\n",
        "    if num>=70 :\n",
        "      print(\"C\", end='')\n",
        "    else :\n",
        "      if num>=60 :\n",
        "        print(\"D\", end='')\n",
        "      else :\n",
        "        print(\"F\", end='')\n",
        "print(\"학점입니다.\")"
      ],
      "metadata": {
        "colab": {
          "base_uri": "https://localhost:8080/"
        },
        "id": "AkO5QloqABui",
        "outputId": "a4de95f1-2845-4492-fa61-18ae5c1b15b3"
      },
      "execution_count": 15,
      "outputs": [
        {
          "output_type": "stream",
          "name": "stdout",
          "text": [
            "학점을 입력하시오. : 89\n",
            "B학점입니다.\n"
          ]
        }
      ]
    }
  ]
}