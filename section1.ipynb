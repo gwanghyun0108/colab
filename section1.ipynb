{
  "nbformat": 4,
  "nbformat_minor": 0,
  "metadata": {
    "colab": {
      "name": "section1.ipynb",
      "provenance": [],
      "authorship_tag": "ABX9TyPGBRIh8K973bN2ezhv1VGZ",
      "include_colab_link": true
    },
    "kernelspec": {
      "name": "python3",
      "display_name": "Python 3"
    },
    "language_info": {
      "name": "python"
    }
  },
  "cells": [
    {
      "cell_type": "markdown",
      "metadata": {
        "id": "view-in-github",
        "colab_type": "text"
      },
      "source": [
        "<a href=\"https://colab.research.google.com/github/gwanghyun0108/colab/blob/main/section1.ipynb\" target=\"_parent\"><img src=\"https://colab.research.google.com/assets/colab-badge.svg\" alt=\"Open In Colab\"/></a>"
      ]
    },
    {
      "cell_type": "markdown",
      "source": [
        "파이썬 프로그래밍 1장"
      ],
      "metadata": {
        "id": "WfzL3xlfoqwo"
      }
    },
    {
      "cell_type": "code",
      "execution_count": 1,
      "metadata": {
        "colab": {
          "base_uri": "https://localhost:8080/"
        },
        "id": "rk6t0J7IoXR0",
        "outputId": "2ade7af4-5596-4d40-e4dd-b305d58751fe"
      },
      "outputs": [
        {
          "output_type": "stream",
          "name": "stdout",
          "text": [
            "안산공고 컴퓨터과 3학년 2반 11번 신광현\n"
          ]
        }
      ],
      "source": [
        "print(\"안산공고 컴퓨터과 3학년 2반 11번 신광현\")"
      ]
    }
  ]
}