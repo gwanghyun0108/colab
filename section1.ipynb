{
  "nbformat": 4,
  "nbformat_minor": 0,
  "metadata": {
    "colab": {
      "name": "section1.ipynb",
      "provenance": [],
      "authorship_tag": "ABX9TyOYMTObV04Jl5EqelD+xTmS",
      "include_colab_link": true
    },
    "kernelspec": {
      "name": "python3",
      "display_name": "Python 3"
    },
    "language_info": {
      "name": "python"
    }
  },
  "cells": [
    {
      "cell_type": "markdown",
      "metadata": {
        "id": "view-in-github",
        "colab_type": "text"
      },
      "source": [
        "<a href=\"https://colab.research.google.com/github/gwanghyun0108/colab/blob/main/section1.ipynb\" target=\"_parent\"><img src=\"https://colab.research.google.com/assets/colab-badge.svg\" alt=\"Open In Colab\"/></a>"
      ]
    },
    {
      "cell_type": "markdown",
      "source": [
        "파이썬 프로그래밍 1장"
      ],
      "metadata": {
        "id": "WfzL3xlfoqwo"
      }
    },
    {
      "cell_type": "code",
      "execution_count": 1,
      "metadata": {
        "colab": {
          "base_uri": "https://localhost:8080/"
        },
        "id": "rk6t0J7IoXR0",
        "outputId": "2ade7af4-5596-4d40-e4dd-b305d58751fe"
      },
      "outputs": [
        {
          "output_type": "stream",
          "name": "stdout",
          "text": [
            "안산공고 컴퓨터과 3학년 2반 11번 신광현\n"
          ]
        }
      ],
      "source": [
        "print(\"안산공고 컴퓨터과 3학년 2반 11번 신광현\")"
      ]
    },
    {
      "cell_type": "markdown",
      "source": [
        "변수 사용 예)"
      ],
      "metadata": {
        "id": "AS42hWjoqNyh"
      }
    },
    {
      "cell_type": "code",
      "source": [
        "a=100\n",
        "b=200\n",
        "result = a+b\n",
        "print(a,\"+\", b, \"=\", result)"
      ],
      "metadata": {
        "colab": {
          "base_uri": "https://localhost:8080/"
        },
        "id": "uTqFF4L6qQJy",
        "outputId": "4804a57a-8afa-4f62-ed1a-fbb05939f685"
      },
      "execution_count": 2,
      "outputs": [
        {
          "output_type": "stream",
          "name": "stdout",
          "text": [
            "100 + 200 = 300\n"
          ]
        }
      ]
    },
    {
      "cell_type": "code",
      "source": [
        "num1 = 100\n",
        "num2 = 200\n",
        "result = num1 * num2\n",
        "print(num1, \"x\", num2, \"=\", result)"
      ],
      "metadata": {
        "colab": {
          "base_uri": "https://localhost:8080/"
        },
        "id": "QojHE4yps55z",
        "outputId": "3ca68ed8-1bd8-4fd6-f3a9-a6c778cf9ae2"
      },
      "execution_count": 3,
      "outputs": [
        {
          "output_type": "stream",
          "name": "stdout",
          "text": [
            "100 x 200 = 20000\n"
          ]
        }
      ]
    },
    {
      "cell_type": "code",
      "source": [
        "num1 = 100\n",
        "num2 = 200\n",
        "result = num1 / num2\n",
        "print(num1, \"/\", num2, \"=\", result)"
      ],
      "metadata": {
        "colab": {
          "base_uri": "https://localhost:8080/"
        },
        "id": "045Be59Vs8Vh",
        "outputId": "587919f6-dae8-4434-cc94-d26bd1e5fec3"
      },
      "execution_count": 4,
      "outputs": [
        {
          "output_type": "stream",
          "name": "stdout",
          "text": [
            "100 / 200 = 0.5\n"
          ]
        }
      ]
    },
    {
      "cell_type": "code",
      "source": [
        "num1 = 100\n",
        "num2 = 200\n",
        "result = num1 - num2\n",
        "print(num1, \"-\", num2, \"=\", result)"
      ],
      "metadata": {
        "colab": {
          "base_uri": "https://localhost:8080/"
        },
        "id": "hHQOwYLps8hx",
        "outputId": "d7cf854b-1852-4484-8033-cedec1d194e7"
      },
      "execution_count": 5,
      "outputs": [
        {
          "output_type": "stream",
          "name": "stdout",
          "text": [
            "100 - 200 = -100\n"
          ]
        }
      ]
    },
    {
      "cell_type": "code",
      "source": [
        "num1 = 100\n",
        "num2 = 200\n",
        "result = num1 // num2\n",
        "print(num1, \"//\", num2, \"=\", result)"
      ],
      "metadata": {
        "colab": {
          "base_uri": "https://localhost:8080/"
        },
        "id": "SUnJXFxzs8rw",
        "outputId": "e034c70f-0918-4b05-9c0a-620ffe89980b"
      },
      "execution_count": 6,
      "outputs": [
        {
          "output_type": "stream",
          "name": "stdout",
          "text": [
            "100 // 200 = 0\n"
          ]
        }
      ]
    },
    {
      "cell_type": "code",
      "source": [
        "num1 = 1\n",
        "num2 = 2\n",
        "result = num1 % num2\n",
        "print(num1, \"%\", num2, \"=\", result)"
      ],
      "metadata": {
        "colab": {
          "base_uri": "https://localhost:8080/"
        },
        "id": "EuDgki-ctNdo",
        "outputId": "72eb91a2-0c86-4ac1-fc1c-4a0b431df207"
      },
      "execution_count": 7,
      "outputs": [
        {
          "output_type": "stream",
          "name": "stdout",
          "text": [
            "1 % 2 = 1\n"
          ]
        }
      ]
    },
    {
      "cell_type": "code",
      "source": [
        "num1 = 100\n",
        "num2 = 20\n",
        "result = num1 ** num2\n",
        "print(num1, \"**\", num2, \"=\", result)"
      ],
      "metadata": {
        "colab": {
          "base_uri": "https://localhost:8080/"
        },
        "id": "ac4Cm_cCtNnQ",
        "outputId": "4d3f073e-fd8e-45b5-d38f-88ad8270263f"
      },
      "execution_count": 8,
      "outputs": [
        {
          "output_type": "stream",
          "name": "stdout",
          "text": [
            "100 ** 20 = 10000000000000000000000000000000000000000\n"
          ]
        }
      ]
    }
  ]
}