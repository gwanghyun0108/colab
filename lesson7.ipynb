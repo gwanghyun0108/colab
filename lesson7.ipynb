{
  "nbformat": 4,
  "nbformat_minor": 0,
  "metadata": {
    "colab": {
      "provenance": [],
      "authorship_tag": "ABX9TyMx02XqXZjvkOcokTV1Loaf",
      "include_colab_link": true
    },
    "kernelspec": {
      "name": "python3",
      "display_name": "Python 3"
    },
    "language_info": {
      "name": "python"
    }
  },
  "cells": [
    {
      "cell_type": "markdown",
      "metadata": {
        "id": "view-in-github",
        "colab_type": "text"
      },
      "source": [
        "<a href=\"https://colab.research.google.com/github/gwanghyun0108/colab/blob/main/lesson7.ipynb\" target=\"_parent\"><img src=\"https://colab.research.google.com/assets/colab-badge.svg\" alt=\"Open In Colab\"/></a>"
      ]
    },
    {
      "cell_type": "code",
      "execution_count": 1,
      "metadata": {
        "colab": {
          "base_uri": "https://localhost:8080/"
        },
        "id": "8TODRmubIUqY",
        "outputId": "4c7762e6-002d-4d6a-c847-8cc0fd0b25e6"
      },
      "outputs": [
        {
          "output_type": "stream",
          "name": "stdout",
          "text": [
            "숫자 : 2\n",
            "숫자 : 5\n",
            "숫자 : 6\n",
            "숫자 : 7\n",
            "합계 ==>  20\n"
          ]
        }
      ],
      "source": [
        "numlist = []\n",
        "for i in range(0, 4) :\n",
        "  numlist.append(0)\n",
        "hap = 0\n",
        "\n",
        "for i in range(0, 4) :\n",
        "  numlist[i] = int(input(\"숫자 : \"))\n",
        "\n",
        "hap = numlist[0] + numlist[1] + numlist[2] + numlist[3]\n",
        "\n",
        "print(\"합계 ==> \", hap)"
      ]
    },
    {
      "cell_type": "code",
      "source": [],
      "metadata": {
        "id": "uWZ8ApASKoFQ"
      },
      "execution_count": null,
      "outputs": []
    }
  ]
}