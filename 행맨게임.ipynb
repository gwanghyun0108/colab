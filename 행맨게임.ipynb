{
  "nbformat": 4,
  "nbformat_minor": 0,
  "metadata": {
    "colab": {
      "provenance": [],
      "authorship_tag": "ABX9TyNApCvD/7HlR2VJO3dLZ6P1",
      "include_colab_link": true
    },
    "kernelspec": {
      "name": "python3",
      "display_name": "Python 3"
    },
    "language_info": {
      "name": "python"
    }
  },
  "cells": [
    {
      "cell_type": "markdown",
      "metadata": {
        "id": "view-in-github",
        "colab_type": "text"
      },
      "source": [
        "<a href=\"https://colab.research.google.com/github/gwanghyun0108/colab/blob/main/%ED%96%89%EB%A7%A8%EA%B2%8C%EC%9E%84.ipynb\" target=\"_parent\"><img src=\"https://colab.research.google.com/assets/colab-badge.svg\" alt=\"Open In Colab\"/></a>"
      ]
    },
    {
      "cell_type": "code",
      "source": [
        "from random import * # 랜덤 모듈 import\n",
        "words = [\"apple\", \"banana\", \"orange\",\n",
        "         \"ditto\", \"phone\", \"smart\",\n",
        "         \"zebra\", \"taxi\", \"blue\", ] # 리스트에 영어 단어 후보를 나열\n",
        "chosen_word = choice(words) # 랜덤으로 단어 중 1개를 선택\n",
        "letters = \"\" # 플레이어가 지금까지 입력한 알파벳들 저장\n",
        "\n",
        "#for 반복문으로 글자 수 만큼의 빈칸을 만든다\n",
        "display = []\n",
        "word_length = len(chosen_word)\n",
        "for _ in range(word_length):\n",
        "  display += \"_\"\n",
        "\n",
        "#while 반복시키기 위한 장치\n",
        "end_of_game = False\n",
        "#목숨 수\n",
        "lives=6\n",
        "\n",
        "while not end_of_game:\n",
        "  guess = input(\"Guess a letter : \").lower()\n",
        "  #고른 알파벳이 그 단어 안에 있을 때 빈칸을 단어로 바꿔주기\n",
        "  for position in range(word_length) :\n",
        "    letter = chosen_word[position]\n",
        "    if letter == guess:\n",
        "      display[position] = letter\n",
        "  #고른 알파벳이 그 단어 안에 없을 떄 목숨이 깎임\n",
        "  if guess not in chosen_word:\n",
        "    lives -= 1\n",
        "    if lives == 0:\n",
        "      end_of_game = True\n",
        "      print(\"게임오버\")\n",
        "  #리스트 속 자료를 빈칸 하나씩 띄운 하나의 단어로 만들기\n",
        "  print(f\"{' '.join(display)}\")\n",
        "\n",
        "  #더이상 빈칸이 없이 다 맞췄다면 승리\n",
        "  if \"_\" not in display:\n",
        "    end_of_game = True\n",
        "    print(\"승리\")"
      ],
      "metadata": {
        "id": "MpR4YqX24rJY",
        "colab": {
          "base_uri": "https://localhost:8080/"
        },
        "outputId": "5d35741b-5b3e-4b7e-b056-2044a3f7bec0"
      },
      "execution_count": null,
      "outputs": [
        {
          "output_type": "stream",
          "name": "stdout",
          "text": [
            "Guess a letter : a\n",
            "_ _ _ _ _\n",
            "Guess a letter : p\n",
            "_ _ _ _ _\n",
            "Guess a letter : e\n",
            "_ _ _ _ _\n",
            "Guess a letter : t\n",
            "_ _ t t _\n",
            "Guess a letter : l\n",
            "_ _ t t _\n",
            "Guess a letter : d\n",
            "d _ t t _\n",
            "Guess a letter : o\n",
            "d _ t t o\n",
            "Guess a letter : i\n",
            "d i t t o\n",
            "승리\n"
          ]
        }
      ]
    }
  ]
}