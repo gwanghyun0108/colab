{
  "nbformat": 4,
  "nbformat_minor": 0,
  "metadata": {
    "colab": {
      "name": "3211신광현(논술형).ipynb",
      "provenance": [],
      "collapsed_sections": [],
      "authorship_tag": "ABX9TyPTdBM80BCRbbFE/znK62Ea",
      "include_colab_link": true
    },
    "kernelspec": {
      "name": "python3",
      "display_name": "Python 3"
    },
    "language_info": {
      "name": "python"
    }
  },
  "cells": [
    {
      "cell_type": "markdown",
      "metadata": {
        "id": "view-in-github",
        "colab_type": "text"
      },
      "source": [
        "<a href=\"https://colab.research.google.com/github/gwanghyun0108/colab/blob/main/3211%EC%8B%A0%EA%B4%91%ED%98%84(%EB%85%BC%EC%88%A0%ED%98%95).ipynb\" target=\"_parent\"><img src=\"https://colab.research.google.com/assets/colab-badge.svg\" alt=\"Open In Colab\"/></a>"
      ]
    },
    {
      "cell_type": "markdown",
      "source": [
        "컴퓨터과 3학년 2반 11번 신광현"
      ],
      "metadata": {
        "id": "a7mbaKpyEi5M"
      }
    },
    {
      "cell_type": "code",
      "execution_count": 7,
      "metadata": {
        "colab": {
          "base_uri": "https://localhost:8080/"
        },
        "id": "t7F2PYMrEiSL",
        "outputId": "8c2e340f-5d30-454d-fb93-befcf4dcc105"
      },
      "outputs": [
        {
          "output_type": "stream",
          "name": "stdout",
          "text": [
            "첫번째 숫자를 입력하시오 : 100\n",
            "두번째 숫자를 입력하시오 : 10\n",
            "100.0 + 10.0 = 110.0\n",
            "100.0 - 10.0 = 90.0\n",
            "100.0 * 10.0 = 1000.0\n",
            "100.0 / 10.0 = 10.0\n",
            "100.0 // 10.0 = 10.0\n",
            "100.0 % 10.0 = 0.0\n",
            "100.0 ** 10.0 = 1e+20\n"
          ]
        }
      ],
      "source": [
        "num1=float(input(\"첫번째 숫자를 입력하시오 : \"))\n",
        "num2=float(input(\"두번째 숫자를 입력하시오 : \"))\n",
        "\n",
        "result1 = num1 + num2\n",
        "result2 = num1 - num2\n",
        "result3 = num1 * num2\n",
        "result4 = num1 / num2\n",
        "result5 = num1 // num2\n",
        "result6 = num1 % num2\n",
        "result7 = num1 ** num2\n",
        "\n",
        "print(num1, \"+\", num2, \"=\", result1)\n",
        "print(num1, \"-\", num2, \"=\", result2)\n",
        "print(num1, \"*\", num2, \"=\", result3)\n",
        "print(num1, \"/\", num2, \"=\", result4)\n",
        "print(num1, \"//\", num2, \"=\", result5)\n",
        "print(num1, \"%\", num2, \"=\", result6)\n",
        "print(num1, \"**\", num2, \"=\", result7)"
      ]
    }
  ]
}