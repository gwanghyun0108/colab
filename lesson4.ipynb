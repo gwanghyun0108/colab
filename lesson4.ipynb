{
  "nbformat": 4,
  "nbformat_minor": 0,
  "metadata": {
    "colab": {
      "name": "lesson4.ipynb",
      "provenance": [],
      "authorship_tag": "ABX9TyNnWo9RrQbOIw/XGfaV/ixo",
      "include_colab_link": true
    },
    "kernelspec": {
      "name": "python3",
      "display_name": "Python 3"
    },
    "language_info": {
      "name": "python"
    }
  },
  "cells": [
    {
      "cell_type": "markdown",
      "metadata": {
        "id": "view-in-github",
        "colab_type": "text"
      },
      "source": [
        "<a href=\"https://colab.research.google.com/github/gwanghyun0108/colab/blob/main/lesson4.ipynb\" target=\"_parent\"><img src=\"https://colab.research.google.com/assets/colab-badge.svg\" alt=\"Open In Colab\"/></a>"
      ]
    },
    {
      "cell_type": "code",
      "execution_count": 1,
      "metadata": {
        "colab": {
          "base_uri": "https://localhost:8080/"
        },
        "id": "u-VT9qOda6xa",
        "outputId": "611b43a0-8c1f-45d1-828e-5a1d5b81c489"
      },
      "outputs": [
        {
          "output_type": "stream",
          "name": "stdout",
          "text": [
            "var1 변수의 데이터 타입은 <class 'int'>\n",
            "var2 변수의 데이터 타입은 <class 'float'>\n",
            "var3 변수의 데이터 타입은 <class 'str'>\n",
            "var4 변수의 데이터 타입은 <class 'bool'>\n"
          ]
        }
      ],
      "source": [
        "var1, var2, var3, var4 = 100, 3.14, \"안산공고\", True\n",
        "print(\"var1 변수의 데이터 타입은\", type(var1))\n",
        "print(\"var2 변수의 데이터 타입은\", type(var2))\n",
        "print(\"var3 변수의 데이터 타입은\", type(var3))\n",
        "print(\"var4 변수의 데이터 타입은\", type(var4))"
      ]
    },
    {
      "cell_type": "code",
      "source": [
        "print(\"\\n줄바꿈\\n연습\")\n",
        "print(\"\\t탭키\\t연습\")\n",
        "print(\"어떤 글자를 \\\"강조\\\"하는 효과1\")\n",
        "print('어떤 글자를 \\'강조\\'하는 효과2')\n",
        "print(\"\\\\\\\\ 백슬래시 2개 출력\")"
      ],
      "metadata": {
        "colab": {
          "base_uri": "https://localhost:8080/"
        },
        "id": "aK_zXQ_Ki9AO",
        "outputId": "3a87f4fd-f391-4cea-a92d-6db51ee48b5a"
      },
      "execution_count": 3,
      "outputs": [
        {
          "output_type": "stream",
          "name": "stdout",
          "text": [
            "\n",
            "줄바꿈\n",
            "연습\n",
            "\t탭키\t연습\n",
            "어떤 글자를 \"강조\"하는 효과1\n",
            "어떤 글자를 '강조'하는 효과2\n",
            "\\\\ 백슬래시 2개 출력\n"
          ]
        }
      ]
    },
    {
      "cell_type": "code",
      "source": [],
      "metadata": {
        "id": "I6DA9dbylydl"
      },
      "execution_count": null,
      "outputs": []
    }
  ]
}