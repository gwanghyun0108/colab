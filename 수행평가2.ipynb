{
  "nbformat": 4,
  "nbformat_minor": 0,
  "metadata": {
    "colab": {
      "provenance": [],
      "authorship_tag": "ABX9TyOVaxrAg2lwbfKCywa/Po3o",
      "include_colab_link": true
    },
    "kernelspec": {
      "name": "python3",
      "display_name": "Python 3"
    },
    "language_info": {
      "name": "python"
    }
  },
  "cells": [
    {
      "cell_type": "markdown",
      "metadata": {
        "id": "view-in-github",
        "colab_type": "text"
      },
      "source": [
        "<a href=\"https://colab.research.google.com/github/gwanghyun0108/colab/blob/main/%EC%88%98%ED%96%89%ED%8F%89%EA%B0%802.ipynb\" target=\"_parent\"><img src=\"https://colab.research.google.com/assets/colab-badge.svg\" alt=\"Open In Colab\"/></a>"
      ]
    },
    {
      "cell_type": "code",
      "execution_count": 4,
      "metadata": {
        "colab": {
          "base_uri": "https://localhost:8080/"
        },
        "id": "-j_RGUyJkCW5",
        "outputId": "ee20f213-8b22-4c29-dffe-5298de56b289"
      },
      "outputs": [
        {
          "output_type": "stream",
          "name": "stdout",
          "text": [
            "원본 문자열 ==> Python\n",
            "변환 문자열 ==> pYTHON\n"
          ]
        }
      ],
      "source": [
        "ss = \"Python\"\n",
        "print(\"원본 문자열 ==>\", ss)\n",
        "\n",
        "ts = 1\n",
        "\n",
        "ss2 =\"\"\n",
        "\n",
        "ss2 += ss[0].lower()\n",
        "for i in range(0, 5) :\n",
        "  ss2 += ss[ts].upper()\n",
        "  ts = ts + 1\n",
        "\n",
        "print(\"변환 문자열 ==> \", end='')\n",
        "print(ss2)"
      ]
    },
    {
      "cell_type": "code",
      "source": [
        "a = input(\"가수 이름을 입력하시오 : \")\n",
        "b = len(a)\n",
        "c=\"\"\n",
        "\n",
        "for i in range(0, b) :\n",
        "  c = c + a[b-1]\n",
        "  b = b - 1\n",
        "print(c)"
      ],
      "metadata": {
        "colab": {
          "base_uri": "https://localhost:8080/"
        },
        "id": "KxPqXc7do6Fc",
        "outputId": "c7465859-9de4-4238-ac36-5ca0b9c794df"
      },
      "execution_count": 6,
      "outputs": [
        {
          "output_type": "stream",
          "name": "stdout",
          "text": [
            "가수 이름을 입력하시오 : 트와이스\n",
            "스이와트\n"
          ]
        }
      ]
    },
    {
      "cell_type": "code",
      "source": [
        "text1 = input(\"첫 번째 문자열 : \")\n",
        "text2 = input(\"두 번째 문자열 : \")\n",
        "\n",
        "a = len(text1)\n",
        "b = len(text2)\n",
        "\n",
        "print(\"두 문자열의 길이 차이는\", a - b, \"입니다.\")"
      ],
      "metadata": {
        "colab": {
          "base_uri": "https://localhost:8080/"
        },
        "id": "KZzLgMqFxXDd",
        "outputId": "9e025fcd-643a-461e-9074-2338a8185740"
      },
      "execution_count": 7,
      "outputs": [
        {
          "output_type": "stream",
          "name": "stdout",
          "text": [
            "첫 번째 문자열 : 가나다라\n",
            "두 번째 문자열 : 가나\n",
            "두 문자열의 길이 차이는 2 입니다.\n"
          ]
        }
      ]
    },
    {
      "cell_type": "code",
      "source": [
        "pound=float(input(\"파운드를 입력하세요 : \"))\n",
        "kg=pound*0.453592\n",
        "print(pound, \"파운드는\", round(kg, 3), \"킬로그램입니다.\")\n",
        "\n",
        "kg=float(input(\"킬로그램을 입력하세요 : \"))\n",
        "pound=kg*2.204623\n",
        "print(kg, \"킬로그램은\", round(pound, 3), \"파운드입니다.\")"
      ],
      "metadata": {
        "colab": {
          "base_uri": "https://localhost:8080/"
        },
        "id": "pz7Ejo2I1I3d",
        "outputId": "61ae2ee5-8a17-41ae-a8f3-e3d164b79e2f"
      },
      "execution_count": 9,
      "outputs": [
        {
          "output_type": "stream",
          "name": "stdout",
          "text": [
            "파운드를 입력하세요 : 15\n",
            "15.0 파운드는 6.804 킬로그램입니다.\n",
            "킬로그램을 입력하세요 : 15\n",
            "15.0 킬로그램은 33.069 파운드입니다.\n"
          ]
        }
      ]
    }
  ]
}