{
  "nbformat": 4,
  "nbformat_minor": 0,
  "metadata": {
    "colab": {
      "provenance": [],
      "authorship_tag": "ABX9TyNbjWC5FcM5/6Y3a3Xqe6y1",
      "include_colab_link": true
    },
    "kernelspec": {
      "name": "python3",
      "display_name": "Python 3"
    },
    "language_info": {
      "name": "python"
    }
  },
  "cells": [
    {
      "cell_type": "markdown",
      "metadata": {
        "id": "view-in-github",
        "colab_type": "text"
      },
      "source": [
        "<a href=\"https://colab.research.google.com/github/gwanghyun0108/colab/blob/main/%EC%88%98%ED%96%89%ED%8F%89%EA%B0%802.ipynb\" target=\"_parent\"><img src=\"https://colab.research.google.com/assets/colab-badge.svg\" alt=\"Open In Colab\"/></a>"
      ]
    },
    {
      "cell_type": "code",
      "execution_count": 4,
      "metadata": {
        "colab": {
          "base_uri": "https://localhost:8080/"
        },
        "id": "-j_RGUyJkCW5",
        "outputId": "ee20f213-8b22-4c29-dffe-5298de56b289"
      },
      "outputs": [
        {
          "output_type": "stream",
          "name": "stdout",
          "text": [
            "원본 문자열 ==> Python\n",
            "변환 문자열 ==> pYTHON\n"
          ]
        }
      ],
      "source": [
        "ss = \"Python\"\n",
        "print(\"원본 문자열 ==>\", ss)\n",
        "\n",
        "ts = 1\n",
        "\n",
        "ss2 =\"\"\n",
        "\n",
        "ss2 += ss[0].lower()\n",
        "for i in range(0, 5) :\n",
        "  ss2 += ss[ts].upper()\n",
        "  ts = ts + 1\n",
        "\n",
        "print(\"변환 문자열 ==> \", end='')\n",
        "print(ss2)"
      ]
    },
    {
      "cell_type": "code",
      "source": [
        "a = input(\"가수 이름을 입력하시오 : \")\n",
        "b = len(a)\n",
        "c=\"\"\n",
        "\n",
        "for i in range(0, b) :\n",
        "  c = c + a[b-1]\n",
        "  b = b - 1\n",
        "print(c)"
      ],
      "metadata": {
        "colab": {
          "base_uri": "https://localhost:8080/"
        },
        "id": "KxPqXc7do6Fc",
        "outputId": "c7465859-9de4-4238-ac36-5ca0b9c794df"
      },
      "execution_count": 6,
      "outputs": [
        {
          "output_type": "stream",
          "name": "stdout",
          "text": [
            "가수 이름을 입력하시오 : 트와이스\n",
            "스이와트\n"
          ]
        }
      ]
    }
  ]
}