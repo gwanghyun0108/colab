{
  "nbformat": 4,
  "nbformat_minor": 0,
  "metadata": {
    "colab": {
      "name": "lesson1.ipynb",
      "provenance": [],
      "authorship_tag": "ABX9TyPMh8yqUMK13xqAKsBrhEKW",
      "include_colab_link": true
    },
    "kernelspec": {
      "name": "python3",
      "display_name": "Python 3"
    },
    "language_info": {
      "name": "python"
    }
  },
  "cells": [
    {
      "cell_type": "markdown",
      "metadata": {
        "id": "view-in-github",
        "colab_type": "text"
      },
      "source": [
        "<a href=\"https://colab.research.google.com/github/gwanghyun0108/colab/blob/main/lesson1.ipynb\" target=\"_parent\"><img src=\"https://colab.research.google.com/assets/colab-badge.svg\" alt=\"Open In Colab\"/></a>"
      ]
    },
    {
      "cell_type": "markdown",
      "source": [
        "파이썬 2장"
      ],
      "metadata": {
        "id": "EWEBtd1zB33f"
      }
    },
    {
      "cell_type": "code",
      "execution_count": 11,
      "metadata": {
        "colab": {
          "base_uri": "https://localhost:8080/"
        },
        "id": "u5z99me3BGaN",
        "outputId": "dc82aa88-a953-4bcd-df0d-8a05dc0993cb"
      },
      "outputs": [
        {
          "output_type": "stream",
          "name": "stdout",
          "text": [
            "첫번째 숫자 입력 ==>100\n",
            "두번째 숫자 입력 ==>200\n",
            "100 + 200 = 300\n",
            "100 - 200 = -100\n",
            "100 * 200 = 20000\n",
            "100 / 200 = 0.5\n"
          ]
        }
      ],
      "source": [
        "a=int(input(\"첫번째 숫자 입력 ==>\"))\n",
        "b=int(input(\"두번째 숫자 입력 ==>\"))\n",
        "\n",
        "print(a, \"+\", b, \"=\", a+b)\n",
        "print(a, \"-\", b, \"=\", a-b)\n",
        "print(a, \"*\", b, \"=\", a*b)\n",
        "print(a, \"/\", b, \"=\", a/b)"
      ]
    },
    {
      "cell_type": "markdown",
      "source": [
        "input()함수 예제"
      ],
      "metadata": {
        "id": "M45ia3BiGh6y"
      }
    },
    {
      "cell_type": "code",
      "source": [
        "num1 = input(\"첫번째 숫자 입력 ==>\")\n",
        "num2 = input(\"두번째 숫자 입력 ==>\")\n",
        "result = num1 + num2\n",
        "print(num1, \"+\", num2, \"=\", result)"
      ],
      "metadata": {
        "colab": {
          "base_uri": "https://localhost:8080/"
        },
        "id": "WiUabjCZGlp2",
        "outputId": "fdb4ad7c-0d41-4189-d9a4-4e6563e1e35b"
      },
      "execution_count": 4,
      "outputs": [
        {
          "output_type": "stream",
          "name": "stdout",
          "text": [
            "첫번째 숫자 입력 ==>100\n",
            "두번째 숫자 입력 ==>200\n",
            "100 + 200 = 100200\n"
          ]
        }
      ]
    },
    {
      "cell_type": "markdown",
      "source": [
        "문자열 예제"
      ],
      "metadata": {
        "id": "-SEt794KPpW8"
      }
    },
    {
      "cell_type": "code",
      "source": [
        "a=input(\"이름을 입력하세요 : \")\n",
        "b=input(\"전화번호를 입력하세요 : \")\n",
        "\n",
        "print(\"제 이름은\", a,\"이고, 연락처는\", b,\"입니다\")"
      ],
      "metadata": {
        "colab": {
          "base_uri": "https://localhost:8080/"
        },
        "id": "aGg9z4PYOs3x",
        "outputId": "e7f5e4b9-cd72-4b8f-e7fc-104ac58f4512"
      },
      "execution_count": 17,
      "outputs": [
        {
          "output_type": "stream",
          "name": "stdout",
          "text": [
            "이름을 입력하세요 : 신광현\n",
            "전화번호를 입력하세요 : 010-1245-1234\n",
            "제 이름은 신광현 이고, 연락처는 010-1245-1234 입니다\n"
          ]
        }
      ]
    },
    {
      "cell_type": "code",
      "source": [
        "name=input(\"받는사람 : \")\n",
        "add=input(\"주소 : \")\n",
        "g=int(input(\"무게 : \"))\n",
        "\n",
        "print(\"받는사람 ==>\",name)\n",
        "print(\"주소 ==>\",add)\n",
        "print(\"배송비 ==>\", g * 5)"
      ],
      "metadata": {
        "colab": {
          "base_uri": "https://localhost:8080/"
        },
        "id": "tPkT75llRDpt",
        "outputId": "747d29e0-9b44-4e44-d498-699018d6549c"
      },
      "execution_count": 19,
      "outputs": [
        {
          "output_type": "stream",
          "name": "stdout",
          "text": [
            "받는사람 : 신광현\n",
            "주소 : 경기도 안산시 상록구 부곡동\n",
            "무게 : 721\n",
            "받는사람 ==> 신광현\n",
            "주소 ==> 경기도 안산시 상록구 부곡동\n",
            "배송비 ==> 3605\n"
          ]
        }
      ]
    },
    {
      "cell_type": "markdown",
      "source": [
        "수행대비(계산기)"
      ],
      "metadata": {
        "id": "NtutCmrYTNpp"
      }
    },
    {
      "cell_type": "code",
      "source": [
        "a=int(input(\"첫번째 숫자를 입력하세요 : \"))\n",
        "b=int(input(\"첫번째 숫자를 입력하세요 : \"))\n",
        "\n",
        "print(a, \"+\", b, \"=\", a+b)\n",
        "print(a, \"-\", b, \"=\", a-b)\n",
        "print(a, \"*\", b, \"=\", a*b)\n",
        "print(a, \"/\", b, \"=\", a/b)\n",
        "print(a, \"%\", b, \"=\", a%b)\n",
        "print(a, \"**\", b, \"=\", a**b)\n",
        "print(a, \"//\", b, \"=\", a//b)"
      ],
      "metadata": {
        "colab": {
          "base_uri": "https://localhost:8080/"
        },
        "id": "QVSFF8V1TMTT",
        "outputId": "285c00b6-08a2-414f-f761-3627f8c2adef"
      },
      "execution_count": 22,
      "outputs": [
        {
          "output_type": "stream",
          "name": "stdout",
          "text": [
            "첫번째 숫자를 입력하세요 : 100\n",
            "첫번째 숫자를 입력하세요 : 10\n",
            "100 + 10 = 110\n",
            "100 - 10 = 90\n",
            "100 * 10 = 1000\n",
            "100 / 10 = 10.0\n",
            "100 % 10 = 0\n",
            "100 ** 10 = 100000000000000000000\n",
            "100 // 10 = 10\n"
          ]
        }
      ]
    },
    {
      "cell_type": "markdown",
      "source": [
        "거북이"
      ],
      "metadata": {
        "id": "TNjq3sZrWhoy"
      }
    },
    {
      "cell_type": "code",
      "source": [
        "#!pip3 install ColabTurtle\n",
        "import ColabTurtle.Turtle as turtle\n",
        "\n",
        "turtle.initializeTurtle()\n",
        "turtle.forward(100)\n",
        "turtle.left(143)\n",
        "turtle.forward(100)\n",
        "turtle.left(143)\n",
        "turtle.forward(100)\n",
        "turtle.left(143)\n",
        "turtle.forward(100)\n",
        "turtle.left(143)\n",
        "turtle.forward(100)"
      ],
      "metadata": {
        "colab": {
          "base_uri": "https://localhost:8080/",
          "height": 520
        },
        "id": "Jd-hwZj3WjX7",
        "outputId": "af933ff0-6385-459f-df0b-96588030aaa9"
      },
      "execution_count": 43,
      "outputs": [
        {
          "output_type": "display_data",
          "data": {
            "text/plain": [
              "<IPython.core.display.HTML object>"
            ],
            "text/html": [
              "\n",
              "      <svg width=\"800\" height=\"500\">\n",
              "        <rect width=\"100%\" height=\"100%\" fill=\"black\"/>\n",
              "        <line x1=\"400\" y1=\"250\" x2=\"400.0\" y2=\"150.0\" stroke-linecap=\"round\" style=\"stroke:white;stroke-width:4\"/><line x1=\"400.0\" y1=\"150.0\" x2=\"339.818\" y2=\"229.864\" stroke-linecap=\"round\" style=\"stroke:white;stroke-width:4\"/><line x1=\"339.818\" y1=\"229.864\" x2=\"435.944\" y2=\"202.3\" stroke-linecap=\"round\" style=\"stroke:white;stroke-width:4\"/><line x1=\"435.944\" y1=\"202.3\" x2=\"342.586\" y2=\"166.463\" stroke-linecap=\"round\" style=\"stroke:white;stroke-width:4\"/><line x1=\"342.586\" y1=\"166.463\" x2=\"395.578\" y2=\"251.268\" stroke-linecap=\"round\" style=\"stroke:white;stroke-width:4\"/>\n",
              "        <g visibility=visible transform=\"rotate(148,395.578,251.268) translate(377.578, 233.268)\">\n",
              "<path style=\" stroke:none;fill-rule:evenodd;fill:white;fill-opacity:1;\" d=\"M 18.214844 0.632812 C 16.109375 1.800781 15.011719 4.074219 15.074219 7.132812 L 15.085938 7.652344 L 14.785156 7.496094 C 13.476562 6.824219 11.957031 6.671875 10.40625 7.066406 C 8.46875 7.550781 6.515625 9.15625 4.394531 11.992188 C 3.0625 13.777344 2.679688 14.636719 3.042969 15.027344 L 3.15625 15.152344 L 3.519531 15.152344 C 4.238281 15.152344 4.828125 14.886719 8.1875 13.039062 C 9.386719 12.378906 10.371094 11.839844 10.378906 11.839844 C 10.386719 11.839844 10.355469 11.929688 10.304688 12.035156 C 9.832031 13.09375 9.257812 14.820312 8.96875 16.078125 C 7.914062 20.652344 8.617188 24.53125 11.070312 27.660156 C 11.351562 28.015625 11.363281 27.914062 10.972656 28.382812 C 8.925781 30.84375 7.945312 33.28125 8.238281 35.1875 C 8.289062 35.527344 8.28125 35.523438 8.917969 35.523438 C 10.941406 35.523438 13.074219 34.207031 15.136719 31.6875 C 15.359375 31.417969 15.328125 31.425781 15.5625 31.574219 C 16.292969 32.042969 18.023438 32.964844 18.175781 32.964844 C 18.335938 32.964844 19.941406 32.210938 20.828125 31.71875 C 20.996094 31.625 21.136719 31.554688 21.136719 31.558594 C 21.203125 31.664062 21.898438 32.414062 22.222656 32.730469 C 23.835938 34.300781 25.5625 35.132812 27.582031 35.300781 C 27.90625 35.328125 27.9375 35.308594 28.007812 34.984375 C 28.382812 33.242188 27.625 30.925781 25.863281 28.425781 L 25.542969 27.96875 L 25.699219 27.785156 C 28.945312 23.960938 29.132812 18.699219 26.257812 11.96875 L 26.207031 11.84375 L 27.945312 12.703125 C 31.53125 14.476562 32.316406 14.800781 33.03125 14.800781 C 33.976562 14.800781 33.78125 13.9375 32.472656 12.292969 C 28.519531 7.355469 25.394531 5.925781 21.921875 7.472656 L 21.558594 7.636719 L 21.578125 7.542969 C 21.699219 6.992188 21.761719 5.742188 21.699219 5.164062 C 21.496094 3.296875 20.664062 1.964844 19.003906 0.855469 C 18.480469 0.503906 18.457031 0.5 18.214844 0.632812\"/>\n",
              "</g>\n",
              "      </svg>\n",
              "    "
            ]
          },
          "metadata": {}
        }
      ]
    },
    {
      "cell_type": "code",
      "source": [
        ""
      ],
      "metadata": {
        "id": "WXpqQ405XiUv"
      },
      "execution_count": null,
      "outputs": []
    }
  ]
}