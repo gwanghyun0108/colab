{
  "nbformat": 4,
  "nbformat_minor": 0,
  "metadata": {
    "colab": {
      "provenance": [],
      "authorship_tag": "ABX9TyPg+iDe7+xAW5W7Sq2/VfKs",
      "include_colab_link": true
    },
    "kernelspec": {
      "name": "python3",
      "display_name": "Python 3"
    },
    "language_info": {
      "name": "python"
    }
  },
  "cells": [
    {
      "cell_type": "markdown",
      "metadata": {
        "id": "view-in-github",
        "colab_type": "text"
      },
      "source": [
        "<a href=\"https://colab.research.google.com/github/gwanghyun0108/colab/blob/main/lesson6.ipynb\" target=\"_parent\"><img src=\"https://colab.research.google.com/assets/colab-badge.svg\" alt=\"Open In Colab\"/></a>"
      ]
    },
    {
      "cell_type": "code",
      "execution_count": 5,
      "metadata": {
        "colab": {
          "base_uri": "https://localhost:8080/"
        },
        "id": "2ShrEReJIaTu",
        "outputId": "060f646a-68a1-4d93-9122-387931efa7f5"
      },
      "outputs": [
        {
          "output_type": "stream",
          "name": "stdout",
          "text": [
            "집에 보내줘.... \n",
            "우리도 온라인 해줘!!\n",
            "집에 보내줘.... \n",
            "우리도 온라인 해줘!!\n",
            "집에 보내줘.... \n",
            "우리도 온라인 해줘!!\n"
          ]
        }
      ],
      "source": [
        "for i in range(3) :\n",
        "  print(\"집에 보내줘.... \")\n",
        "  print(\"우리도 온라인 해줘!!\")"
      ]
    },
    {
      "cell_type": "code",
      "source": [
        "fact = 1\n",
        "num = int(input(\"숫자를 입력하시오 : \"))\n",
        "\n",
        "for i in range(1, num+1, 1) :\n",
        "  fact = fact * i\n",
        "\n",
        "print(fact)"
      ],
      "metadata": {
        "colab": {
          "base_uri": "https://localhost:8080/"
        },
        "id": "-kBFx7nmMTBO",
        "outputId": "f8a1d167-3b06-4171-d247-dc02b89cf301"
      },
      "execution_count": 7,
      "outputs": [
        {
          "output_type": "stream",
          "name": "stdout",
          "text": [
            "숫자를 입력하시오 : 7\n",
            "5040\n"
          ]
        }
      ]
    },
    {
      "cell_type": "code",
      "source": [
        "hap = 0\n",
        "num = int(input(\"숫자를 입력하시오 : \"))\n",
        "\n",
        "for i in range(1, num+1, 1) :\n",
        "  hap = hap + i\n",
        "\n",
        "print(hap)"
      ],
      "metadata": {
        "colab": {
          "base_uri": "https://localhost:8080/"
        },
        "id": "uunlITm_PXtc",
        "outputId": "5f716d9e-1d78-4e62-ee2f-25d8df39141a"
      },
      "execution_count": 11,
      "outputs": [
        {
          "output_type": "stream",
          "name": "stdout",
          "text": [
            "숫자를 입력하시오 : 10\n",
            "55\n"
          ]
        }
      ]
    },
    {
      "cell_type": "code",
      "source": [
        "i = 0\n",
        "j = 0\n",
        "\n",
        "for i in range(2, 10) :\n",
        "  for j in range(1, 10) :\n",
        "    print(i,\"X\", j, \"=\", i*j)\n",
        "  print(\"\")"
      ],
      "metadata": {
        "colab": {
          "base_uri": "https://localhost:8080/"
        },
        "id": "Ju67bhhsQRoR",
        "outputId": "a946325d-ea0c-4a40-a719-05b124d1d1e2"
      },
      "execution_count": 13,
      "outputs": [
        {
          "output_type": "stream",
          "name": "stdout",
          "text": [
            "2 X 1 = 2\n",
            "2 X 2 = 4\n",
            "2 X 3 = 6\n",
            "2 X 4 = 8\n",
            "2 X 5 = 10\n",
            "2 X 6 = 12\n",
            "2 X 7 = 14\n",
            "2 X 8 = 16\n",
            "2 X 9 = 18\n",
            "\n",
            "3 X 1 = 3\n",
            "3 X 2 = 6\n",
            "3 X 3 = 9\n",
            "3 X 4 = 12\n",
            "3 X 5 = 15\n",
            "3 X 6 = 18\n",
            "3 X 7 = 21\n",
            "3 X 8 = 24\n",
            "3 X 9 = 27\n",
            "\n",
            "4 X 1 = 4\n",
            "4 X 2 = 8\n",
            "4 X 3 = 12\n",
            "4 X 4 = 16\n",
            "4 X 5 = 20\n",
            "4 X 6 = 24\n",
            "4 X 7 = 28\n",
            "4 X 8 = 32\n",
            "4 X 9 = 36\n",
            "\n",
            "5 X 1 = 5\n",
            "5 X 2 = 10\n",
            "5 X 3 = 15\n",
            "5 X 4 = 20\n",
            "5 X 5 = 25\n",
            "5 X 6 = 30\n",
            "5 X 7 = 35\n",
            "5 X 8 = 40\n",
            "5 X 9 = 45\n",
            "\n",
            "6 X 1 = 6\n",
            "6 X 2 = 12\n",
            "6 X 3 = 18\n",
            "6 X 4 = 24\n",
            "6 X 5 = 30\n",
            "6 X 6 = 36\n",
            "6 X 7 = 42\n",
            "6 X 8 = 48\n",
            "6 X 9 = 54\n",
            "\n",
            "7 X 1 = 7\n",
            "7 X 2 = 14\n",
            "7 X 3 = 21\n",
            "7 X 4 = 28\n",
            "7 X 5 = 35\n",
            "7 X 6 = 42\n",
            "7 X 7 = 49\n",
            "7 X 8 = 56\n",
            "7 X 9 = 63\n",
            "\n",
            "8 X 1 = 8\n",
            "8 X 2 = 16\n",
            "8 X 3 = 24\n",
            "8 X 4 = 32\n",
            "8 X 5 = 40\n",
            "8 X 6 = 48\n",
            "8 X 7 = 56\n",
            "8 X 8 = 64\n",
            "8 X 9 = 72\n",
            "\n",
            "9 X 1 = 9\n",
            "9 X 2 = 18\n",
            "9 X 3 = 27\n",
            "9 X 4 = 36\n",
            "9 X 5 = 45\n",
            "9 X 6 = 54\n",
            "9 X 7 = 63\n",
            "9 X 8 = 72\n",
            "9 X 9 = 81\n",
            "\n"
          ]
        }
      ]
    },
    {
      "cell_type": "code",
      "source": [
        "for i in range(0, 3, 1) :\n",
        "  print(i, \":난생처음 파이썬은 재미있습니다. ^^\")"
      ],
      "metadata": {
        "colab": {
          "base_uri": "https://localhost:8080/"
        },
        "id": "T2J8YeEWVqYT",
        "outputId": "2e4d5947-7c6b-43f8-f497-2dfdfdabf9ce"
      },
      "execution_count": 14,
      "outputs": [
        {
          "output_type": "stream",
          "name": "stdout",
          "text": [
            "0 :난생처음 파이썬은 재미있습니다. ^^\n",
            "1 :난생처음 파이썬은 재미있습니다. ^^\n",
            "2 :난생처음 파이썬은 재미있습니다. ^^\n"
          ]
        }
      ]
    },
    {
      "cell_type": "code",
      "source": [
        "hap = 0\n",
        "\n",
        "while True :\n",
        "  num1 = int(input(\"숫자를 입력하시오 : \"))\n",
        "  num2 = int(input(\"숫자를 입력하시오 : \"))\n",
        "\n",
        "  if num1 == 0 :\n",
        "    break\n",
        "\n",
        "  hap = num1 + num2\n",
        "  print(num1, \"+\", num2, \"=\", hap)"
      ],
      "metadata": {
        "colab": {
          "base_uri": "https://localhost:8080/"
        },
        "id": "DRaktcgoXYUS",
        "outputId": "5b4e0eab-484e-469c-da69-ba2ca8a7c407"
      },
      "execution_count": 20,
      "outputs": [
        {
          "name": "stdout",
          "output_type": "stream",
          "text": [
            "숫자를 입력하시오 : 10\n",
            "숫자를 입력하시오 : 20\n",
            "10 + 20 = 30\n",
            "숫자를 입력하시오 : 45\n",
            "숫자를 입력하시오 : 45\n",
            "45 + 45 = 90\n",
            "숫자를 입력하시오 : 0\n",
            "숫자를 입력하시오 : 2\n"
          ]
        }
      ]
    },
    {
      "cell_type": "code",
      "source": [
        "count = 0\n",
        "\n",
        "while True :\n",
        "  import random\n",
        "  r1 = random.randint(1, 6)\n",
        "  r2 = random.randint(1, 6)\n",
        "  r3 = random.randint(1, 6)\n",
        "  count = count + 1\n",
        "  if r1==r2==r3 :\n",
        "    break\n",
        "\n",
        "print(\"3개의 주사위는 모두\", r1, \"입니다.\")\n",
        "print(\"같은 숫자가 나오기까지\", count, \"번 던졌습니다.\")"
      ],
      "metadata": {
        "colab": {
          "base_uri": "https://localhost:8080/"
        },
        "id": "R3prhDIoZhsP",
        "outputId": "1c0bb98c-0f26-4eac-9729-619469593a50"
      },
      "execution_count": 61,
      "outputs": [
        {
          "output_type": "stream",
          "name": "stdout",
          "text": [
            "3개의 주사위는 모두 4 입니다.\n",
            "같은 숫자가 나오기까지 210 번 던졌습니다.\n"
          ]
        }
      ]
    },
    {
      "cell_type": "code",
      "source": [
        "import random\n",
        "\n",
        "computer, user = 0, 0\n",
        "\n",
        "for i in range(1,11) :\n",
        "  computer = random.randint(1, 5)\n",
        "  print(\"게임\", i, \"회\", end='')\n",
        "  user = int(input(\"컴퓨터가 생각한 숫자는 ? \"))\n",
        "\n",
        "  if computer == user :\n",
        "    print(\"맞혔네요. 축하합니다.\")\n",
        "    break\n",
        "  else :\n",
        "    print(\"아까워요\", computer, \"였는데요. 다시 해보세요\")"
      ],
      "metadata": {
        "colab": {
          "base_uri": "https://localhost:8080/"
        },
        "id": "Wx_dlze6cgUM",
        "outputId": "811dd0ec-dd40-4f61-c184-f2efd1b276fc"
      },
      "execution_count": null,
      "outputs": [
        {
          "output_type": "stream",
          "name": "stdout",
          "text": [
            "게임 1 회컴퓨터가 생각한 숫자는 ? 5\n",
            "아까워요 2 였는데요. 다시 해보세요\n",
            "게임 2 회컴퓨터가 생각한 숫자는 ? 7\n",
            "아까워요 4 였는데요. 다시 해보세요\n",
            "게임 3 회"
          ]
        }
      ]
    }
  ]
}