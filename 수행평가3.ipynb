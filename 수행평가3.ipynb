{
  "nbformat": 4,
  "nbformat_minor": 0,
  "metadata": {
    "colab": {
      "provenance": [],
      "authorship_tag": "ABX9TyMCoNYloSEaUjHhbGRffY8z",
      "include_colab_link": true
    },
    "kernelspec": {
      "name": "python3",
      "display_name": "Python 3"
    },
    "language_info": {
      "name": "python"
    }
  },
  "cells": [
    {
      "cell_type": "markdown",
      "metadata": {
        "id": "view-in-github",
        "colab_type": "text"
      },
      "source": [
        "<a href=\"https://colab.research.google.com/github/gwanghyun0108/colab/blob/main/%EC%88%98%ED%96%89%ED%8F%89%EA%B0%803.ipynb\" target=\"_parent\"><img src=\"https://colab.research.google.com/assets/colab-badge.svg\" alt=\"Open In Colab\"/></a>"
      ]
    },
    {
      "cell_type": "code",
      "execution_count": 1,
      "metadata": {
        "colab": {
          "base_uri": "https://localhost:8080/"
        },
        "id": "EDsUo1fua0ul",
        "outputId": "2ec0aceb-6bd0-42a3-b4e6-80fcdb22ff2e"
      },
      "outputs": [
        {
          "output_type": "stream",
          "name": "stdout",
          "text": [
            "숫자를 입력하시오 : 150\n",
            "100보다 크고 1000보다 작습니다.\n"
          ]
        }
      ],
      "source": [
        "num=int(input(\"숫자를 입력하시오 : \"))\n",
        "\n",
        "if num > 100 :\n",
        "  if num < 1000 :\n",
        "    print(\"100보다 크고 1000보다 작습니다.\")\n",
        "  else :\n",
        "    print(\"1000보다 큽니다.\")\n",
        "else :\n",
        "  print(\"100보다 작습니다.\")"
      ]
    },
    {
      "cell_type": "code",
      "source": [],
      "metadata": {
        "id": "9VbrkOb8e5cc"
      },
      "execution_count": null,
      "outputs": []
    }
  ]
}